{
 "cells": [
  {
   "cell_type": "code",
   "execution_count": null,
   "id": "0214131e",
   "metadata": {},
   "outputs": [],
   "source": [
    "import pyrealsense2 as rs\n",
    "import numpy as np\n",
    "import cv2\n",
    "import time\n",
    "from ultralytics import YOLO\n",
    "#from TCPdepth import closing\n",
    "#from function_ObjDet  import getObject\n",
    "from dimensionYolo import getObjectDimension \n",
    "from robotiq3f_py.robotiqcontrol.GripperController import GripperController\n",
    "from yolo11Dimension import getObjectDimensiont\n",
    "from closing import closing as closeGripper\n",
    "#from robotiq3f_py.robotiqcontrol.GripperController import GripperController \n",
    "#from cam import cama\n",
    "#from depthTracking import closing\n",
    "#from depthTracking import gripTrigger"
   ]
  },
  {
   "cell_type": "markdown",
   "id": "84319493",
   "metadata": {},
   "source": [
    "Initialize Gripper"
   ]
  },
  {
   "cell_type": "code",
   "execution_count": null,
   "id": "5e823d27",
   "metadata": {},
   "outputs": [],
   "source": [
    "# Initialize the GripperController object with the IP address of the server\n",
    "try:\n",
    "    gripper = GripperController(\"192.168.1.11\")\n",
    "    gripper.activate()\n",
    "    print('Connected')\n",
    "except:\n",
    "    print(\"No Connection to gripper\")\n",
    "    \n",
    "'''\n",
    "ACHTUNG: wird wohl immer verbunden\n",
    "'''"
   ]
  },
  {
   "cell_type": "code",
   "execution_count": null,
   "id": "c6d37d3d",
   "metadata": {},
   "outputs": [],
   "source": [
    "def gripperPos(pos):\n",
    "    gripperPos = [pos]*3 \n",
    "    return gripperPos\n",
    "\n",
    "\n",
    "def gripperSpeed(speed):\n",
    "    gripperSpeed = [speed]*3 \n",
    "    return gripperSpeed\n",
    "\n",
    "def gripperForce(force):\n",
    "    gripperForce = [force]*3 \n",
    "    return gripperForce\n"
   ]
  },
  {
   "cell_type": "code",
   "execution_count": null,
   "id": "95d04636",
   "metadata": {},
   "outputs": [],
   "source": [
    "\n",
    "mode = 'Pinch'\n",
    "\n",
    "target_position = [0]*3\n",
    "speed = [200] *3\n",
    "force = [20] * 3\n",
    "individual_control = False\n",
    "gripper.command_gripper(rPRA=target_position, rSP=speed, rFR=force, rMOD=mode, rICF=individual_control)\n",
    "print('command sent')\n",
    "print(gripper.gSTA)\n",
    "#print(f\"Sending action: rACT=1, rGTO={gripper.rGTO}, rMOD={gripper.rMOD}\")\n",
    "\n",
    "while gripper.gSTA == 0:\n",
    "    time.sleep(0.3)\n",
    "    print('moving')\n",
    "\n",
    "\n",
    "gripper.command_gripper"
   ]
  },
  {
   "cell_type": "code",
   "execution_count": null,
   "id": "f29b47d4",
   "metadata": {},
   "outputs": [],
   "source": [
    "value = 0 # daten von Funktion  # Lieber an längste seite anpassen?\n",
    "force = gripperForce(60)\n",
    "speed = [20]\n",
    "target_position = gripperPos(value)\n",
    "individual_control = False\n",
    "gripper.command_gripper(rPRA=target_position, rSP=speed, rFR=force, rMOD=mode, rICF=individual_control)\n",
    "print('command sent')\n",
    "print(gripper.gSTA)\n",
    "print(gripper.gIMC)\n",
    "print(gripper.FingerA_Current)\n",
    "time.sleep(0.2)\n",
    "print(gripper.gSTA)\n",
    "print(gripper.gIMC)\n",
    "print(gripper.FingerA_Current)\n",
    "while gripper.gSTA == 0:\n",
    "    print(f'Strom: {gripper.FingerA_Current}')\n",
    "    print(f'Status: {gripper.gSTA}')\n",
    "    print('gripping')\n"
   ]
  },
  {
   "cell_type": "code",
   "execution_count": null,
   "id": "fab57c26",
   "metadata": {},
   "outputs": [],
   "source": [
    "time.sleep(3)\n",
    "value = 0 # daten von Funktion  # Lieber an längste seite anpassen?\n",
    "force = gripperForce(200)\n",
    "speed = [10]\n",
    "target_position = gripperPos(value)\n",
    "c = []\n",
    "individual_control = False\n",
    "gripper.command_gripper(rPRA=target_position, rSP=speed, rFR=force, rMOD=mode, rICF=individual_control,rGTO=1)\n",
    "print('command sent')\n",
    "time.sleep(0.5)\n",
    "while gripper.gSTA == 0:\n",
    "    print(gripper.FingerA_Current)\n",
    "    print('gripping')\n",
    "    #Stop if gripper has object in hand and is continue moving\n",
    "    c.append(gripper.FingerB_Current)\n",
    "    if any(val > 4 for val in [gripper.FingerA_Current, gripper.FingerB_Current, gripper.FingerC_Current]):\n",
    "        gripper.command_gripper(rPRA=target_position, rSP=speed, rFR=force, rMOD=mode, rICF=individual_control,rGTO=0)\n",
    "        print('gripper stopped')\n",
    "        break\n",
    "    else:\n",
    "        print(f'current: {gripper.FingerB_Current}')\n",
    "print('ende')\n",
    "print(gripper.FingerA_Current)\n",
    "print(gripper.FingerA_Position)\n",
    "#print(gripper.FingerA_PositionReqEcho)"
   ]
  }
 ],
 "metadata": {
  "language_info": {
   "name": "python"
  }
 },
 "nbformat": 4,
 "nbformat_minor": 5
}
