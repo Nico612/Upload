{
 "cells": [
  {
   "cell_type": "code",
   "execution_count": null,
   "metadata": {},
   "outputs": [],
   "source": [
    "import pyrealsense2 as rs\n",
    "import numpy as np\n",
    "import cv2\n",
    "import time\n",
    "from ultralytics import YOLO\n",
    "#from TCPdepth import closing\n",
    "#from function_ObjDet  import getObject\n",
    "from dimensionYolo import getObjectDimension \n",
    "from robotiq3f_py.robotiqcontrol.GripperController import GripperController\n",
    "from yolo11Dimension import getObjectDimensiont\n",
    "from closing import closing as closeGripper\n",
    "#from robotiq3f_py.robotiqcontrol.GripperController import GripperController \n",
    "#from cam import cama\n",
    "#from depthTracking import closing\n",
    "#from depthTracking import gripTrigger"
   ]
  },
  {
   "cell_type": "markdown",
   "metadata": {},
   "source": [
    "Funktion um Öffnungswinkel an Objektgröße anzupassen"
   ]
  },
  {
   "cell_type": "code",
   "execution_count": null,
   "metadata": {},
   "outputs": [],
   "source": [
    "def openGripper(mode, x):\n",
    "\n",
    "    if mode == 'Scissor':\n",
    "        x = x + 1\n",
    "        return max(0,min(190,int(-23.75 * x +237.5)))\n",
    "    else:\n",
    "        x = x+2\n",
    "        print(x)\n",
    "        return max(0,min(90,int(-7.7 * x +123))) # 90~3cm\n",
    "\n"
   ]
  },
  {
   "cell_type": "markdown",
   "metadata": {},
   "source": [
    "Funktion um Werte in Register zu schreiben"
   ]
  },
  {
   "cell_type": "code",
   "execution_count": null,
   "metadata": {},
   "outputs": [],
   "source": [
    "def gripperPos(pos):\n",
    "    gripperPos = [pos]*3 \n",
    "    return gripperPos\n",
    "\n",
    "\n",
    "def gripperSpeed(speed):\n",
    "    gripperSpeed = [speed]*3 \n",
    "    return gripperSpeed\n",
    "\n",
    "def gripperForce(force):\n",
    "    gripperForce = [force]*3 \n",
    "    return gripperForce\n"
   ]
  },
  {
   "cell_type": "markdown",
   "metadata": {},
   "source": [
    "Initialize Gripper"
   ]
  },
  {
   "cell_type": "code",
   "execution_count": null,
   "metadata": {},
   "outputs": [],
   "source": [
    "# Initialize the GripperController object with the IP address of the server\n",
    "try:\n",
    "    gripper = GripperController(\"192.168.1.11\")\n",
    "    gripper.activate()\n",
    "    print('Connected')\n",
    "except:\n",
    "    print(\"No Connection to gripper\")\n",
    "    \n",
    "'''\n",
    "ACHTUNG: wird wohl immer verbunden\n",
    "'''"
   ]
  },
  {
   "cell_type": "markdown",
   "metadata": {},
   "source": [
    "Greifer in Ausgangslage bringen"
   ]
  },
  {
   "cell_type": "code",
   "execution_count": null,
   "metadata": {},
   "outputs": [],
   "source": [
    "mode = 'Basic'\n",
    "\n",
    "target_position = [0]*3\n",
    "speed = [255] *3\n",
    "force = [20] * 3\n",
    "individual_control = False\n",
    "\n",
    "\n",
    "gripper.command_gripper(rPRA=target_position, rSP=speed, rFR=force, rMOD=mode, rICF=individual_control)\n",
    "print('command sent')\n",
    "\n",
    "# for i in range(0,20):\n",
    "#      time.sleep(0.25)\n",
    "#      print([gripper.FingerA_Current, gripper.FingerB_Current, gripper.FingerC_Current]) \n",
    "#      print(f'position: {gripper.FingerA_Position}')\n",
    "#      print(f'status_register: {gripper.gSTA}')\n",
    "      \n",
    "\n",
    "\n",
    "        # Wait for the gripper to reach the target position or object is detected\n",
    "# while any([gripper.FingerA_Current, gripper.FingerB_Current, gripper.FingerC_Current]):\n",
    "#         print('wait')\n",
    "#         time.sleep(0.1)\n"
   ]
  },
  {
   "cell_type": "markdown",
   "metadata": {},
   "source": [
    "Camera Set-Up"
   ]
  },
  {
   "cell_type": "code",
   "execution_count": null,
   "metadata": {},
   "outputs": [],
   "source": [
    "# Auflösung definieren\n",
    "x = 424\n",
    "y = 240\n",
    "\n",
    "\n",
    "dbr = 0.17873      # ausgerechnetes invlaid depth band für abstand von ca 15 cm\n",
    "xdepth = int(dbr * x)\n",
    "# Kamera Konfigurieren und starten\n",
    "pipeline = rs.pipeline()\n",
    "config = rs.config()\n",
    "filter = rs.decimation_filter()\n",
    "config.enable_stream(rs.stream.depth, x,y, rs.format.z16, 30)\n",
    "config.enable_stream(rs.stream.color, x,y, rs.format.bgr8, 30)  # bgr is compatible with OpenCV \n",
    "pipelineProfile = pipeline.start(config)\n",
    "# Align streams\n",
    "align_to = rs.stream.color\n",
    "align = rs.align(align_to)\n",
    "# Set high accuracy mode\n",
    "depth_sensor = pipelineProfile.get_device().first_depth_sensor()\n",
    "depth_sensor.set_option(rs.option.visual_preset, rs.rs400_visual_preset.high_density)\n",
    "#depth_sensor.set_option(rs.option.visual_preset, rs.rs400_visual_preset.medium_density)\n",
    "depthScale = depth_sensor.get_depth_scale()"
   ]
  },
  {
   "cell_type": "markdown",
   "metadata": {},
   "source": [
    "Warten bis Greifer Initialbewewegung ausgeführt hat"
   ]
  },
  {
   "cell_type": "code",
   "execution_count": null,
   "metadata": {},
   "outputs": [],
   "source": [
    "try:\n",
    "        while gripper.gSTA == 0:\n",
    "                print('in Motion')\n",
    "except Exception as e:\n",
    "    print(\"Fehler aufgetreten:\", e)\n",
    "print('Gripper Ready')\n",
    "#print(gripper.gSTA)"
   ]
  },
  {
   "cell_type": "markdown",
   "metadata": {},
   "source": [
    "Object Detection"
   ]
  },
  {
   "cell_type": "code",
   "execution_count": null,
   "metadata": {},
   "outputs": [],
   "source": [
    "model = YOLO(\"yolo11n.pt\")\n",
    "confidence_YOLO =0.35\n",
    "label, xSize, ySize  = getObjectDimensiont(model,confidence_YOLO,pipeline, depthScale, align)"
   ]
  },
  {
   "cell_type": "code",
   "execution_count": null,
   "metadata": {},
   "outputs": [],
   "source": [
    "# xSize = float(xSize)\n",
    "# ySize = float(ySize)"
   ]
  },
  {
   "cell_type": "markdown",
   "metadata": {},
   "source": [
    "In größte und kleinste Seite unterscheiden"
   ]
  },
  {
   "cell_type": "code",
   "execution_count": null,
   "metadata": {},
   "outputs": [],
   "source": [
    "if xSize > ySize:\n",
    "    maxSide = xSize\n",
    "    minSide = ySize\n",
    "else:\n",
    "    maxSide = ySize\n",
    "    minSide = xSize\n",
    "maxSide, minSide"
   ]
  },
  {
   "cell_type": "markdown",
   "metadata": {},
   "source": [
    "Entscheidungsbaum für Modus"
   ]
  },
  {
   "cell_type": "code",
   "execution_count": null,
   "metadata": {},
   "outputs": [],
   "source": [
    "#objectsWithHole = [\"toilet\", \"donut\"]\n",
    "# mit if Bedingung x == maxside methode fürs drehen\n",
    "if maxSide >= 24:\n",
    "    if minSide >= 15:\n",
    "        print(\"Object too big!\")\n",
    "        mode = None\n",
    "    else:\n",
    "        mode = \"Wide\"\n",
    "elif maxSide >= 12 :\n",
    "    mode = \"Basic\"\n",
    "\n",
    "elif   maxSide < 6 and (maxSide-minSide > 3 or minSide <3) :\n",
    "    mode = \"Scissor\"\n",
    "else:\n",
    "    mode = \"Pinch\"\n",
    "mode"
   ]
  },
  {
   "cell_type": "markdown",
   "metadata": {},
   "source": [
    "Greifer Öfffnung an Objekt anpassen"
   ]
  },
  {
   "cell_type": "code",
   "execution_count": null,
   "metadata": {},
   "outputs": [],
   "source": [
    "\n",
    "if mode:\n",
    "        value = openGripper(mode,minSide)   \n",
    "        force = gripperForce(20)\n",
    "        speed = [255]\n",
    "        target_position = gripperPos(value)\n",
    "        \n",
    "        individual_control = False\n",
    "        #target_position = [250]*3\n",
    "        #target_position, force, speed\n",
    "else:\n",
    "    individual_control = True\n",
    "    mode = \"Basic\"\n",
    "    target_position = [130,255,255]\n",
    "    force = gripperForce(20)\n",
    "    speed = [255]*3\n",
    "    #target_position = gripperPos(value)\n",
    "print(f'mode: {mode}')\n",
    "print(f'position: {target_position}')\n",
    "print(f'speed: {speed}')"
   ]
  },
  {
   "cell_type": "markdown",
   "metadata": {},
   "source": [
    "Greifer in Greifposition fahren"
   ]
  },
  {
   "cell_type": "code",
   "execution_count": null,
   "metadata": {},
   "outputs": [],
   "source": [
    "print(target_position, force, speed, individual_control,mode)\n",
    "\n",
    "gripper.command_gripper(rPRA=target_position, rSP=speed, rFR=force, rMOD=mode, rICF=individual_control)\n",
    "print('command sent')\n",
    "\n",
    "time.sleep(1)\n",
    "        # Wait for the gripper to reach the target position or object is detected\n",
    "# while any([gripper.FingerA_Current, gripper.FingerB_Current, gripper.FingerC_Current]):\n",
    "#         print('wait')\n",
    "#         time.sleep(0.1)\n",
    "\n",
    "while gripper.gSTA == 0:\n",
    "        print('in Motion')\n",
    "\n",
    "print('end')"
   ]
  },
  {
   "cell_type": "code",
   "execution_count": null,
   "metadata": {},
   "outputs": [],
   "source": []
  },
  {
   "cell_type": "markdown",
   "metadata": {},
   "source": [
    "Distanz des Objektes zu Greifer"
   ]
  },
  {
   "cell_type": "code",
   "execution_count": null,
   "metadata": {},
   "outputs": [],
   "source": [
    "cv2.destroyAllWindows()"
   ]
  },
  {
   "cell_type": "code",
   "execution_count": null,
   "metadata": {},
   "outputs": [],
   "source": [
    "if individual_control:\n",
    "    print('No Mode')\n",
    "else:\n",
    "    grip = closeGripper(pipeline, depthScale, align, mode, x,y)\n",
    "grip "
   ]
  },
  {
   "cell_type": "markdown",
   "metadata": {},
   "source": [
    "Commands to close gripper"
   ]
  },
  {
   "cell_type": "code",
   "execution_count": null,
   "metadata": {},
   "outputs": [],
   "source": [
    "if grip:\n",
    "        target_position = [255]*3 # Closing position\n",
    "        if mode == \"Basic\" or mode == \"Wide\":\n",
    "                speed = gripperSpeed(0)\n",
    "        else:\n",
    "                speed = gripperSpeed(10)\n",
    "                \n",
    "        \n",
    "        gripper.command_gripper(rPRA=target_position, rSP=speed, rFR=force, rMOD=mode, rICF=individual_control)\n",
    "        print('command sent')              \n",
    "        # Wait for the gripper to reach the target position or object is detected\n",
    "        # while any([gripper.FingerA_Current, gripper.FingerB_Current, gripper.FingerC_Current]):\n",
    "        #         print('wait')\n",
    "        #         time.sleep(0.1)\n",
    "        while gripper.gSTA == 0:\n",
    "                print('sleep')\n",
    "        \n",
    "        print('end')\n",
    "else:\n",
    "        print('nothing to grip')"
   ]
  },
  {
   "cell_type": "code",
   "execution_count": null,
   "metadata": {},
   "outputs": [],
   "source": [
    "try:\n",
    "        while gripper.gSTA == 0:\n",
    "                print('in Motion')\n",
    "except Exception as e:\n",
    "    print(\"Fehler aufgetreten:\", e)\n",
    "print('Gripper Ready')\n",
    "#print(gripper.gSTA)"
   ]
  },
  {
   "cell_type": "markdown",
   "metadata": {},
   "source": [
    "Greifer nach x Sekunden öffnen"
   ]
  },
  {
   "cell_type": "code",
   "execution_count": null,
   "metadata": {},
   "outputs": [],
   "source": [
    "time.sleep(5)\n",
    "print('over')\n",
    "mode = 'Basic'\n",
    "\n",
    "target_position = [0]*3 # Opening position\n",
    "\n",
    "speed = gripperSpeed(10)\n",
    "        \n",
    "\n",
    "gripper.command_gripper(rPRA=target_position, rSP=speed, rFR=force, rMOD=mode, rICF=individual_control)\n",
    "print('command sent')              \n",
    "# Wait for the gripper to reach the target position or object is detected\n",
    "# while any([gripper.FingerA_Current, gripper.FingerB_Current, gripper.FingerC_Current]):\n",
    "#         print('wait')\n",
    "#         time.sleep(0.1)\n",
    "while gripper.gSTA == 0:\n",
    "        print('sleep')\n",
    "gripper.command_gripper(rPRA=target_position, rSP=speed, rFR=force, rMOD=mode, rICF=individual_control)\n",
    "print('end')"
   ]
  },
  {
   "cell_type": "code",
   "execution_count": null,
   "metadata": {},
   "outputs": [],
   "source": [
    "pipeline.stop()"
   ]
  },
  {
   "cell_type": "code",
   "execution_count": null,
   "metadata": {},
   "outputs": [],
   "source": [
    "gripper.close()\n",
    "pipeline.stop()"
   ]
  }
 ],
 "metadata": {
  "kernelspec": {
   "display_name": "git10",
   "language": "python",
   "name": "python3"
  },
  "language_info": {
   "codemirror_mode": {
    "name": "ipython",
    "version": 3
   },
   "file_extension": ".py",
   "mimetype": "text/x-python",
   "name": "python",
   "nbconvert_exporter": "python",
   "pygments_lexer": "ipython3",
   "version": "3.10.0"
  }
 },
 "nbformat": 4,
 "nbformat_minor": 2
}
